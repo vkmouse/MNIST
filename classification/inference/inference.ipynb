{
 "cells": [
  {
   "cell_type": "code",
   "execution_count": 1,
   "metadata": {},
   "outputs": [],
   "source": [
    "import numpy as np\n",
    "import cv2\n",
    "import os"
   ]
  },
  {
   "cell_type": "code",
   "execution_count": 2,
   "metadata": {},
   "outputs": [],
   "source": [
    "dir = '../dataset/trainingSample/trainingSample/'\n",
    "images = []\n",
    "labels = []\n",
    "for label in os.listdir(dir):\n",
    "    for image in os.listdir(dir + label + '/'):\n",
    "        images.append(cv2.imread(dir + label + '/' + image, cv2.IMREAD_GRAYSCALE))\n",
    "        labels.append(int(label))\n",
    "images = np.array(images)\n",
    "images = images.reshape(images.shape[0], images.shape[1], images.shape[2], 1)\n",
    "labels = np.array(labels)\n",
    "labels = labels.reshape(labels.shape[0], 1)"
   ]
  },
  {
   "cell_type": "code",
   "execution_count": 3,
   "metadata": {},
   "outputs": [],
   "source": [
    "frozen_inference_graph = 'frozen_models\\simple_frozen_graph.pb'\n",
    "cvNet = cv2.dnn.readNetFromTensorflow(frozen_inference_graph)"
   ]
  },
  {
   "cell_type": "code",
   "execution_count": 4,
   "metadata": {},
   "outputs": [],
   "source": [
    "cvNet.setInput(cv2.dnn.blobFromImage(images[0], 1 / 255., size=(28, 28), swapRB=True, crop=False))"
   ]
  },
  {
   "cell_type": "code",
   "execution_count": 5,
   "metadata": {},
   "outputs": [],
   "source": [
    "cvOut = cvNet.forward()"
   ]
  },
  {
   "cell_type": "code",
   "execution_count": 6,
   "metadata": {},
   "outputs": [
    {
     "data": {
      "text/plain": [
       "array([[ -17.01991 , -159.31009 ,  -59.931644,  -60.5805  , -111.14243 ,\n",
       "         -55.706715,  -71.02482 ,  -89.165474,  -72.828606,  -57.711723]],\n",
       "      dtype=float32)"
      ]
     },
     "execution_count": 6,
     "metadata": {},
     "output_type": "execute_result"
    }
   ],
   "source": [
    "cvOut"
   ]
  },
  {
   "cell_type": "code",
   "execution_count": null,
   "metadata": {},
   "outputs": [],
   "source": []
  },
  {
   "cell_type": "code",
   "execution_count": null,
   "metadata": {},
   "outputs": [],
   "source": []
  }
 ],
 "metadata": {
  "kernelspec": {
   "display_name": "Python 3",
   "language": "python",
   "name": "python3"
  },
  "language_info": {
   "codemirror_mode": {
    "name": "ipython",
    "version": 3
   },
   "file_extension": ".py",
   "mimetype": "text/x-python",
   "name": "python",
   "nbconvert_exporter": "python",
   "pygments_lexer": "ipython3",
   "version": "3.7.0"
  }
 },
 "nbformat": 4,
 "nbformat_minor": 4
}
